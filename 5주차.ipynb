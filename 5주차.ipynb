{
  "nbformat": 4,
  "nbformat_minor": 0,
  "metadata": {
    "colab": {
      "provenance": [],
      "mount_file_id": "1jnBYUXQR9V_quvb4Gb0_a4DZkiZiHY92",
      "authorship_tag": "ABX9TyPWRE0gK2D/fH/w8ggHnXi9",
      "include_colab_link": true
    },
    "kernelspec": {
      "name": "python3",
      "display_name": "Python 3"
    },
    "language_info": {
      "name": "python"
    }
  },
  "cells": [
    {
      "cell_type": "markdown",
      "metadata": {
        "id": "view-in-github",
        "colab_type": "text"
      },
      "source": [
        "<a href=\"https://colab.research.google.com/github/sweeeet-zoo/sparta5/blob/main/5%EC%A3%BC%EC%B0%A8.ipynb\" target=\"_parent\"><img src=\"https://colab.research.google.com/assets/colab-badge.svg\" alt=\"Open In Colab\"/></a>"
      ]
    },
    {
      "cell_type": "code",
      "execution_count": null,
      "metadata": {
        "colab": {
          "base_uri": "https://localhost:8080/"
        },
        "id": "X1m4PaWlkJla",
        "outputId": "51c2d8a1-656e-46af-dfa1-abe90dc7c1d4"
      },
      "outputs": [
        {
          "output_type": "stream",
          "name": "stdout",
          "text": [
            "csv 파일이 생성되었습니다.\n"
          ]
        }
      ],
      "source": [
        "import pandas as pd\n",
        "\n",
        "data = {\n",
        "    'Name': ['John', 'Emily', 'Michael'],\n",
        "    'Age': [30, 25, 35],\n",
        "    'City': ['New York', 'Los Angeles', 'Chicago']\n",
        "}\n",
        "\n",
        "df = pd.DataFrame(data)\n",
        "excel_file_path = '/content/sample_data/data.csv'\n",
        "df.to_csv(excel_file_path, index = False)\n",
        "\n",
        "print(\"csv 파일이 생성되었습니다.\")"
      ]
    },
    {
      "cell_type": "markdown",
      "source": [
        "df.to_csv => df라는 데이터를 csv 확장명으로 저장\n",
        "index => 값 앞에 숫자 지정"
      ],
      "metadata": {
        "id": "eY86EJGTltfG"
      }
    },
    {
      "cell_type": "code",
      "source": [
        "import pandas as pd\n",
        "\n",
        "data = {\n",
        "    'Name': ['John', 'Emily', 'Michael'],\n",
        "    'Age': [30, 25, 35],\n",
        "    'City': ['New York', 'Los Angeles', 'Chicago']\n",
        "}\n",
        "\n",
        "df = pd.DataFrame(data)\n",
        "excel_file_path = '/content/sample_data/data.xlsx'\n",
        "df.to_excel(excel_file_path, index = False)\n",
        "\n",
        "print(\"Excel 파일이 생성되었습니다.\")"
      ],
      "metadata": {
        "colab": {
          "base_uri": "https://localhost:8080/"
        },
        "id": "P9oMRGFfmFId",
        "outputId": "fe7175c5-f160-4f0a-f008-074f6ba5e6c7"
      },
      "execution_count": null,
      "outputs": [
        {
          "output_type": "stream",
          "name": "stdout",
          "text": [
            "Excel 파일이 생성되었습니다.\n"
          ]
        }
      ]
    },
    {
      "cell_type": "markdown",
      "source": [
        "파일 경로명 & 확장명 변경"
      ],
      "metadata": {
        "id": "IudmxlP6me1b"
      }
    },
    {
      "cell_type": "code",
      "source": [
        "import json\n",
        "\n",
        "data = {\n",
        "    'Name': ['John', 'Emily', 'Michael'],\n",
        "    'Age': [30, 25, 35],\n",
        "    'City': ['New York', 'Los Angeles', 'Chicago']\n",
        "}\n",
        "\n",
        "json_file_path = '/content/sample_data/data.json'\n",
        "\n",
        "# json 파일을 쓰기모드로 열어서 data를 거기에 덮어씌우게 됩니다.\n",
        "with open(json_file_path, 'w') as jsonfile:\n",
        "    json.dump(data, jsonfile, indent=4)\n",
        "\n",
        "print(\"JSON 파일이 생성되었습니다.\")"
      ],
      "metadata": {
        "colab": {
          "base_uri": "https://localhost:8080/"
        },
        "id": "FRbNs1JWmiAB",
        "outputId": "9b523e93-af33-4afc-875a-e80ea13c03ae"
      },
      "execution_count": null,
      "outputs": [
        {
          "output_type": "stream",
          "name": "stdout",
          "text": [
            "JSON 파일이 생성되었습니다.\n"
          ]
        }
      ]
    },
    {
      "cell_type": "markdown",
      "source": [
        "with -> 자동으로 닫아주는 기능\n",
        "open -> 파일 열기\n",
        "w -> 쓰기 모드\n",
        "dump -> 덮어쓰기"
      ],
      "metadata": {
        "id": "btdInVQ8mrqx"
      }
    },
    {
      "cell_type": "code",
      "source": [
        "data = {\n",
        "    'Name': ['John', 'Emily', 'Michael'],\n",
        "    'Age': [30, 25, 35],\n",
        "    'City': ['New York', 'Los Angeles', 'Chicago']\n",
        "}\n",
        "\n",
        "text_file_path = '/content/sample_data/data.txt'\n",
        "\n",
        "with open(text_file_path, 'w') as textfile:\n",
        "    for key, item in data.items():\n",
        "        textfile.write(str(key) + \" : \" + str(item) + '\\n')\n",
        "\n",
        "print(\"텍스트 파일이 생성되었습니다.\")"
      ],
      "metadata": {
        "colab": {
          "base_uri": "https://localhost:8080/"
        },
        "id": "0az9hFKJnGto",
        "outputId": "0680fe01-fddc-4a09-c588-6af82526e7e1"
      },
      "execution_count": null,
      "outputs": [
        {
          "output_type": "stream",
          "name": "stdout",
          "text": [
            "텍스트 파일이 생성되었습니다.\n"
          ]
        }
      ]
    },
    {
      "cell_type": "code",
      "source": [
        "# 아래와 같이 보통은 필요한 패키지를 한번에 다 불러온 다음 코딩을 진행합니다\n",
        "\n",
        "import pandas as pd #pd=축약 명칭\n",
        "import numpy as np\n",
        "import tensorflow as tf\n",
        "import matplotlib.pyplot as plt\n",
        "import seaborn"
      ],
      "metadata": {
        "id": "dA0e9xSjn2_S"
      },
      "execution_count": null,
      "outputs": []
    },
    {
      "cell_type": "code",
      "source": [
        "#포맷팅 사용\n",
        "\n",
        "# f-string\n",
        "# 문자열 맨 앞에 f를 집어 넣고 내가 놓고자 하는 변수의 위치에 중괄호{}와 변수 함께 기입\n",
        "x = 10\n",
        "print(f\"변수 x의 값은 {x}입니다.\")\n",
        "\n",
        "\n",
        "# foramt(x)\n",
        "# 변수의 위치에 중괄호{}를 넣고, 문자열 뒤에 온점을 찍고 format() 함수에 변수를 기입\n",
        "x = 10\n",
        "print(\"변수 x의 값은 {}입니다.\".format(x))\n",
        "\n"
      ],
      "metadata": {
        "colab": {
          "base_uri": "https://localhost:8080/"
        },
        "id": "z4s2BblZ49DA",
        "outputId": "0c1afb4c-b66c-4323-8243-513588f6b977"
      },
      "execution_count": null,
      "outputs": [
        {
          "output_type": "stream",
          "name": "stdout",
          "text": [
            "변수 x의 값은 10입니다.\n",
            "변수 x의 값은 10입니다.\n",
            "변수 x의 값은 10입니다.\n"
          ]
        }
      ]
    },
    {
      "cell_type": "code",
      "source": [
        "# 데이터 분석 결과\n",
        "num_records = 1000\n",
        "avg_age = 35.6\n",
        "median_income = 50000\n",
        "\n",
        "# 출력 포맷 지정\n",
        "output_string = f\"총 {num_records}명의 레코드가 분석되었습니다. 평균 나이는 {avg_age}세이며, 중위 소득은 {median_income}입니다.\"\n",
        "\n",
        "# 결과 출력\n",
        "print(output_string)"
      ],
      "metadata": {
        "colab": {
          "base_uri": "https://localhost:8080/"
        },
        "id": "xk-u7kGZ71B4",
        "outputId": "b4896e53-9214-4bd8-8197-5a70dacef741"
      },
      "execution_count": null,
      "outputs": [
        {
          "output_type": "stream",
          "name": "stdout",
          "text": [
            "총 1000명의 레코드가 분석되었습니다. 평균 나이는 35.6세이며, 중위 소득은 50000입니다.\n"
          ]
        }
      ]
    },
    {
      "cell_type": "code",
      "source": [
        "# 기본적인 구조\n",
        "# [표현식 for 항목 in iterable if 조건문]\n",
        "\n",
        "# 예시: 1부터 10까지의 숫자를 제곱한 리스트 생성\n",
        "squares = []\n",
        "for x in range(1,11):\n",
        "    squares.append(x**2)\n",
        "print(squares)\n",
        "# 4줄->2줄\n",
        "squares = [x**2 for x in range(1, 11)]\n",
        "print(squares)  # 출력: [1, 4, 9, 16, 25, 36, 49, 64, 81, 100]"
      ],
      "metadata": {
        "id": "oDjoXTtg77kP",
        "colab": {
          "base_uri": "https://localhost:8080/"
        },
        "outputId": "402aebeb-5a1c-47cc-e81e-4f73b8f3c529"
      },
      "execution_count": null,
      "outputs": [
        {
          "output_type": "stream",
          "name": "stdout",
          "text": [
            "[1, 4, 9, 16, 25, 36, 49, 64, 81, 100]\n",
            "[4, 16, 36, 64, 100]\n",
            "[5, 6, 5, 6]\n",
            "[[1, 2, 3], [1, 2, 3], [1, 2, 3]]\n"
          ]
        }
      ]
    },
    {
      "cell_type": "code",
      "source": [
        "# lamda 함수\n",
        "def add(x, y):\n",
        "    answer = x + y\n",
        "    return answer\n",
        "print(add(3, 5))\n",
        "# 3줄 -> 2줄\n",
        "add = lambda x, y: x + y\n",
        "print(add(3, 5))  # 출력: 8"
      ],
      "metadata": {
        "colab": {
          "base_uri": "https://localhost:8080/"
        },
        "id": "uVHwkOkl8iAQ",
        "outputId": "a246d7b6-09f0-4b52-9c6f-ee03bcc9f1e7"
      },
      "execution_count": null,
      "outputs": [
        {
          "output_type": "stream",
          "name": "stdout",
          "text": [
            "8\n",
            "8\n"
          ]
        }
      ]
    },
    {
      "cell_type": "code",
      "source": [
        "# lamda 함수의 필터링\n",
        "numbers = [1, 2, 3, 4, 5, 6, 7, 8, 9, 10]\n",
        "even_numbers = list(filter(lambda x: x % 2 == 0, numbers)) # 조건 작성\n",
        "print(even_numbers)  # 출력: [2, 4, 6, 8, 10]"
      ],
      "metadata": {
        "id": "xOlmN_Us-Hpn"
      },
      "execution_count": null,
      "outputs": []
    },
    {
      "cell_type": "code",
      "source": [
        "# globe\n",
        "import glob\n",
        "\n",
        "# 현재 경로의 모든 파일을 찾기\n",
        "file_list1 = glob.glob('*')\n",
        "\n",
        "# 단일 파일 패턴으로 파일을 찾기\n",
        "file_list2 = glob.glob('drive')\n",
        "\n",
        "# 디렉토리 안의 모든 파일 찾기\n",
        "file_list3 = glob.glob('sample_data/*')\n",
        "\n",
        "# 특정 확장자를 가진 파일만 찾기\n",
        "file_list4 = glob.glob('sample_data/*.csv')"
      ],
      "metadata": {
        "id": "k5p7HsEe-UTm"
      },
      "execution_count": null,
      "outputs": []
    },
    {
      "cell_type": "code",
      "source": [
        "# os 라이브러리\n",
        "\n",
        "# 파일 이름 변경\n",
        "import os\n",
        "os.rename('sample_data/new_directory', 'sample_data/new_directory2')"
      ],
      "metadata": {
        "id": "C1iFYrTm_ehC"
      },
      "execution_count": null,
      "outputs": []
    },
    {
      "cell_type": "code",
      "source": [
        "# split 사용\n",
        "# 데이터의 경로를 문자열로 표현\n",
        "file_path = \"/usr/local/data/sample.txt\"\n",
        "\n",
        "# split() 함수를 사용하여 디렉토리와 파일명으로 분할\n",
        "directory, filename = file_path.rsplit('/', 1)\n",
        "print(\"디렉토리:\", directory)  # 출력: 디렉토리: /usr/local/data\n",
        "print(\"파일명:\", filename)    # 출력: 파일명: sample.txt"
      ],
      "metadata": {
        "id": "wfNvr-H_AcKB"
      },
      "execution_count": null,
      "outputs": []
    },
    {
      "cell_type": "code",
      "source": [
        "# 클래스 배우기\n",
        "\n",
        "class ClassName:\n",
        "    def __init__(self, parameter1, parameter2): #필수 메서드\n",
        "        self.attribute1 = parameter1\n",
        "        self.attribute2 = parameter2\n",
        "\n",
        "    def method1(self, parameter1, parameter2):\n",
        "    # 메서드 내용 작성\n",
        "        pass"
      ],
      "metadata": {
        "id": "VbW7PnTqBDkI"
      },
      "execution_count": null,
      "outputs": []
    },
    {
      "cell_type": "code",
      "source": [
        "# 클래스와 객체의 관계\n",
        "\n",
        "class Person:\n",
        "    def __init__(self, name, age):\n",
        "        self.name = name\n",
        "        self.age = age\n",
        "\n",
        "# 객체 생성\n",
        "person1 = Person(\"Alice\", 30)\n",
        "person2 = Person(\"Bob\", 25)"
      ],
      "metadata": {
        "id": "y5UzdS67Bc-7"
      },
      "execution_count": null,
      "outputs": []
    },
    {
      "cell_type": "code",
      "source": [
        "# 클래스 다양성\n",
        "\n",
        "class Animal:\n",
        "    def sound(self):\n",
        "        print(\"Some generic sound\")\n",
        "\n",
        "class Dog(Animal):\n",
        "    def sound(self):\n",
        "        print(\"Woof\")\n",
        "\n",
        "class Cat(Animal):\n",
        "    def sound(self):\n",
        "        print(\"Meow\")\n",
        "\n",
        "# 다형성 활용\n",
        "animals = [Dog(), Cat()]\n",
        "for animal in animals:\n",
        "    animal.sound()"
      ],
      "metadata": {
        "id": "wtE5CJ74B3Be"
      },
      "execution_count": null,
      "outputs": []
    },
    {
      "cell_type": "code",
      "source": [
        "# 불리언 인덱싱\n",
        "\n",
        "import numpy as np\n",
        "\n",
        "# 배열 생성\n",
        "arr = np.array([1, 2, 3, 4, 5])\n",
        "\n",
        "# 불리언 배열 생성 (조건에 따라 True 또는 False 값을 갖는 배열)\n",
        "condition = np.array([True, False, True, False, True])\n",
        "\n",
        "# 불리언 인덱싱을 사용하여 조건에 맞는 요소 선택\n",
        "result = arr[condition]\n",
        "\n",
        "# 결과 출력\n",
        "print(\"Result using boolean indexing:\", result)  # 출력: [1 3 5]\n",
        "\n",
        "# 불리언 인덱싱을 사용하여 배열에서 짝수인 요소만 선택\n",
        "evens = arr[arr % 2 == 0]\n",
        "\n",
        "# 결과 출력\n",
        "print(\"Even numbers using boolean indexing:\", evens)  # 출력: [2 4]"
      ],
      "metadata": {
        "id": "9JUu17UWC_gV"
      },
      "execution_count": null,
      "outputs": []
    },
    {
      "cell_type": "code",
      "source": [
        "# 데코레이션\n",
        "\n",
        "def my_decorator(func):\n",
        "    def wrapper():\n",
        "        print(\"Something is happening before the function is called.\")\n",
        "        func()\n",
        "        print(\"Something is happening after the function is called.\")\n",
        "    return wrapper\n",
        "\n",
        "@my_decorator # decorator 함수의 서식에 맞춰 출력됨\n",
        "def say_hello():\n",
        "    print(\"Hello!\")\n",
        "\n",
        "say_hello()"
      ],
      "metadata": {
        "colab": {
          "base_uri": "https://localhost:8080/"
        },
        "id": "JJSW-3GlDeGu",
        "outputId": "40f8e071-e3c1-4059-b93a-8a28cf0af877"
      },
      "execution_count": null,
      "outputs": [
        {
          "output_type": "stream",
          "name": "stdout",
          "text": [
            "Something is happening before the function is called.\n",
            "Hello!\n",
            "Something is happening after the function is called.\n"
          ]
        }
      ]
    },
    {
      "cell_type": "code",
      "source": [
        "import tensorflow as tf\n",
        "\n",
        "@tf.function  # The decorator converts `add` into a `Function`.\n",
        "def add(a, b):\n",
        "  return a + b\n",
        "\n",
        "add(tf.ones([2, 2]), tf.ones([2, 2]))  #  [[2., 2.], [2., 2.]]\n",
        "\n",
        "\n",
        "import timeit\n",
        "conv_layer = tf.keras.layers.Conv2D(100, 3)\n",
        "\n",
        "@tf.function\n",
        "def conv_fn(image):\n",
        "  return conv_layer(image)\n",
        "\n",
        "image = tf.zeros([1, 200, 200, 100])\n",
        "\n",
        "print(\"Eager conv:\", timeit.timeit(lambda: conv_layer(image), number=10))\n",
        "print(\"Function conv:\", timeit.timeit(lambda: conv_fn(image), number=10))\n",
        "print(\"Note how there's not much difference in performance for convolutions\")"
      ],
      "metadata": {
        "id": "eSRGqbWaD745"
      },
      "execution_count": null,
      "outputs": []
    },
    {
      "cell_type": "code",
      "source": [
        "email_list = [\n",
        "    \"example@example.com\",\n",
        "    \"yangbujang@email.co.kr\",\n",
        "    \"iamhungry.com\",\n",
        "    \"@da.com\",\n",
        "    \"daislove@isnit\"\n",
        "]\n",
        "\n",
        "def check_email(email_list):\n",
        "    for email in email_list:\n",
        "        if '@' not in email:\n",
        "            answer = print('유효하지 않은 이메일입니다 : '+\"'\"+email+\"'\"+' 이유: '+\"'\"+'@가 누락'+\"'\")\n",
        "        elif len(email.split('@')[0])<1:\n",
        "             answer = print('유효하지 않은 이메일입니다 : '+\"'\"+email+\"'\"+' 이유: '+\"'\"+'ID가 누락'+\"'\")\n",
        "        elif '.com' not in (email.split('@')[1]) and '.co.kr' not in (email.split('@')[1]):\n",
        "             answer = print('유효하지 않은 이메일입니다 : ' + \"'\" + email + \"'\"+ ' 이유: ' + \"'\" + '적절하지 않은 도메인' + \"'\")\n",
        "        else:\n",
        "             answer = print('유효한 이메일입니다 : ' + \"'\" + email + \"'\")\n",
        "    return answer\n",
        "\n",
        "check_email(email_list)"
      ],
      "metadata": {
        "colab": {
          "base_uri": "https://localhost:8080/"
        },
        "id": "ojXHJBxPEkkb",
        "outputId": "22b80731-8c67-4223-df63-e0647751ecdd"
      },
      "execution_count": null,
      "outputs": [
        {
          "output_type": "stream",
          "name": "stdout",
          "text": [
            "유효한 이메일입니다 : 'example@example.com'\n",
            "유효한 이메일입니다 : 'yangbujang@email.co.kr'\n",
            "유효하지 않은 이메일입니다 : 'iamhungry.com' 이유: '@가 누락'\n",
            "유효하지 않은 이메일입니다 : '@da.com' 이유: 'ID가 누락'\n",
            "유효하지 않은 이메일입니다 : 'daislove@isnit' 이유: '적절하지 않은 도메인'\n"
          ]
        }
      ]
    }
  ]
}