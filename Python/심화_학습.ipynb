{
  "nbformat": 4,
  "nbformat_minor": 0,
  "metadata": {
    "colab": {
      "provenance": [],
      "authorship_tag": "ABX9TyOchWH3dQGRXqaz0DYIBGii",
      "include_colab_link": true
    },
    "kernelspec": {
      "name": "python3",
      "display_name": "Python 3"
    },
    "language_info": {
      "name": "python"
    }
  },
  "cells": [
    {
      "cell_type": "markdown",
      "metadata": {
        "id": "view-in-github",
        "colab_type": "text"
      },
      "source": [
        "<a href=\"https://colab.research.google.com/github/sweeeet-zoo/sparta5/blob/main/Python/%EC%8B%AC%ED%99%94_%ED%95%99%EC%8A%B5.ipynb\" target=\"_parent\"><img src=\"https://colab.research.google.com/assets/colab-badge.svg\" alt=\"Open In Colab\"/></a>"
      ]
    },
    {
      "cell_type": "code",
      "execution_count": null,
      "metadata": {
        "colab": {
          "base_uri": "https://localhost:8080/"
        },
        "id": "krpuCOm-GOl5",
        "outputId": "b7a4f475-9ce9-4846-ba96-53c98f007a3a"
      },
      "outputs": [
        {
          "output_type": "stream",
          "name": "stdout",
          "text": [
            "[2, 5]\n"
          ]
        }
      ],
      "source": [
        "# 리스트 요소 중 중복되는 값의 다중 인덱스 반환\n",
        "\n",
        "result = [1,2,3,4,5,3]\n",
        "\n",
        "rest_list = list(filter(lambda x: result[x] == 3, range(len(result))))\n",
        "\n",
        "print(rest_list) # 출력 [2, 5]"
      ]
    },
    {
      "cell_type": "code",
      "source": [
        "# 튜플 요소 중 중복되는 값의 다중 인덱스 반환\n",
        "\n",
        "result = (1,2,3,4,5,3)\n",
        "\n",
        "rest_list = list(filter(lambda x: result[x] == 3, range(len(result))))\n",
        "\n",
        "print(rest_list) # 출력 [2, 5]"
      ],
      "metadata": {
        "colab": {
          "base_uri": "https://localhost:8080/"
        },
        "id": "52edmBMQGoaK",
        "outputId": "a13f5104-6c4e-434b-d518-45fe268164a9"
      },
      "execution_count": null,
      "outputs": [
        {
          "output_type": "stream",
          "name": "stdout",
          "text": [
            "[2, 5]\n"
          ]
        }
      ]
    },
    {
      "cell_type": "code",
      "source": [
        "my_dict = {'name': 'John', 'age': 30, 'city': 'New York'}\n",
        "\n",
        "# 값 수정\n",
        "my_dict['name'] = 'James'\n",
        "print(my_dict) # 출력 {'name': 'James', 'age': 30, 'city': 'New York'}"
      ],
      "metadata": {
        "colab": {
          "base_uri": "https://localhost:8080/"
        },
        "id": "_zw7IBTjIgcu",
        "outputId": "c259ea84-879b-4f65-afd0-3f127f2582b0"
      },
      "execution_count": null,
      "outputs": [
        {
          "output_type": "stream",
          "name": "stdout",
          "text": [
            "{'name': 'James', 'age': 30, 'city': 'New York'}\n"
          ]
        }
      ]
    },
    {
      "cell_type": "code",
      "source": [
        "# 요소 추가\n",
        "keys = my_dict.keys()\n",
        "print(\"Keys:\", keys)"
      ],
      "metadata": {
        "colab": {
          "base_uri": "https://localhost:8080/"
        },
        "id": "Iq3vMr83L28o",
        "outputId": "99bf80ab-a474-4d77-acdc-be18c339501a"
      },
      "execution_count": null,
      "outputs": [
        {
          "output_type": "stream",
          "name": "stdout",
          "text": [
            "Keys: dict_keys(['name', 'age', 'city', 'birth'])\n"
          ]
        }
      ]
    },
    {
      "cell_type": "code",
      "source": [],
      "metadata": {
        "id": "Q188u9gLQsN8"
      },
      "execution_count": null,
      "outputs": []
    }
  ]
}