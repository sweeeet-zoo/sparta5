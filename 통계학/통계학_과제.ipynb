{
  "nbformat": 4,
  "nbformat_minor": 0,
  "metadata": {
    "colab": {
      "provenance": [],
      "collapsed_sections": [
        "i7E8KH16DTtS",
        "AIDjxVVzDVx7",
        "KIY9SPkzmbc0",
        "P_a1saIEmc6X"
      ],
      "authorship_tag": "ABX9TyNXQz/53SAH8wDyDSWgTmSp",
      "include_colab_link": true
    },
    "kernelspec": {
      "name": "python3",
      "display_name": "Python 3"
    },
    "language_info": {
      "name": "python"
    }
  },
  "cells": [
    {
      "cell_type": "markdown",
      "metadata": {
        "id": "view-in-github",
        "colab_type": "text"
      },
      "source": [
        "<a href=\"https://colab.research.google.com/github/sweeeet-zoo/sparta5/blob/main/%ED%86%B5%EA%B3%84%ED%95%99_%EA%B3%BC%EC%A0%9C.ipynb\" target=\"_parent\"><img src=\"https://colab.research.google.com/assets/colab-badge.svg\" alt=\"Open In Colab\"/></a>"
      ]
    },
    {
      "cell_type": "markdown",
      "source": [
        "### 문제 1번"
      ],
      "metadata": {
        "id": "i7E8KH16DTtS"
      }
    },
    {
      "cell_type": "code",
      "execution_count": null,
      "metadata": {
        "colab": {
          "base_uri": "https://localhost:8080/"
        },
        "id": "FgORIcir9_KX",
        "outputId": "0ef848ae-58ca-48ac-ae14-6388db805842"
      },
      "outputs": [
        {
          "output_type": "stream",
          "name": "stdout",
          "text": [
            "A회사의 변동계수 0.010\n",
            "B회사의 변동계수 0.055\n"
          ]
        }
      ],
      "source": [
        "# 문제 1번: 변동계수 구하기\n",
        "# 변동계수(cv) = 표준편차 / 평균\n",
        "\n",
        "import numpy as np\n",
        "com_a = [76300, 77400, 77900, 77200, 76900, 78800]\n",
        "com_b = [6400, 7000, 7400, 6900, 7300, 7600]\n",
        "\n",
        "# 배열 생성\n",
        "a_array = np.array(com_a)\n",
        "b_array = np.array(com_b)\n",
        "\n",
        "# 표준편차 구하기\n",
        "a_std = np.std(a_array)\n",
        "b_std = np.std(b_array)\n",
        "\n",
        "# 평균 구하기\n",
        "a_mean = np.mean(a_array)\n",
        "b_mean = np.mean(b_array)\n",
        "\n",
        "# 변동계수 구하기\n",
        "cv_a_np = a_std/a_mean\n",
        "cv_b_np = b_std/b_mean\n",
        "\n",
        "# 결과 출력\n",
        "print(f'A회사의 변동계수 {cv_a_np:.3f}')\n",
        "print(f'B회사의 변동계수 {cv_b_np:.3f}')"
      ]
    },
    {
      "cell_type": "code",
      "source": [
        "# 모범 답안\n",
        "\n",
        "import numpy as np\n",
        "com_a = [76300, 77400, 77900, 77200, 76900, 78800]\n",
        "com_b = [6400, 7000, 7400, 6900, 7300, 7600]\n",
        "\n",
        "# 배열 생성\n",
        "a_array = np.array(com_a)\n",
        "b_array = np.array(com_b)\n",
        "\n",
        "# 표준편차 구하기\n",
        "# 표본의 표준편차이므로, ddof = 1\n",
        "a_std = np.std(a_array, ddof=1)\n",
        "b_std = np.std(b_array, ddof=1)\n",
        "\n",
        "# 평균 구하기\n",
        "a_mean = np.mean(a_array)\n",
        "b_mean = np.mean(b_array)\n",
        "\n",
        "# 변동계수 구하기\n",
        "cv_a_np = a_std/a_mean\n",
        "cv_b_np = b_std/b_mean\n",
        "\n",
        "# 결과 출력\n",
        "print(f'A회사의 변동계수 {cv_a_np:.3f}')\n",
        "print(f'B회사의 변동계수 {cv_b_np:.3f}')"
      ],
      "metadata": {
        "colab": {
          "base_uri": "https://localhost:8080/"
        },
        "id": "qbI18uRgFgzR",
        "outputId": "5d824004-f185-44a6-fec3-3f78d265efe3"
      },
      "execution_count": null,
      "outputs": [
        {
          "output_type": "stream",
          "name": "stdout",
          "text": [
            "A회사의 변동계수 0.011\n",
            "B회사의 변동계수 0.060\n"
          ]
        }
      ]
    },
    {
      "cell_type": "code",
      "source": [
        "# pandas로 풀이할 시 표준편차 디폴트 값이 ddof=1 이다.\n",
        "import pandas as pd"
      ],
      "metadata": {
        "id": "IwTzGrYjFzM5"
      },
      "execution_count": null,
      "outputs": []
    },
    {
      "cell_type": "markdown",
      "source": [
        "### 문제 2번"
      ],
      "metadata": {
        "id": "AIDjxVVzDVx7"
      }
    },
    {
      "cell_type": "markdown",
      "source": [
        "평균이 $\\mu$ 이고 표준편차가 $\\sigma = 8$ 인 정규분포를 따르는 모집단에서 크기가 25인 표본을 추출하여 평균을 계산하였더니 $\\bar{x}$가 42.7 이다. 이때 $\\mu$에 대한 95% 신뢰 구간을 구하라."
      ],
      "metadata": {
        "id": "_9oDbuEeIv0Y"
      }
    },
    {
      "cell_type": "markdown",
      "source": [
        "μ에 대한 95% 신뢰 구간 => μ이 포함되었을 것으로 예상되는 범위"
      ],
      "metadata": {
        "id": "Ak1fOM3gI_Pp"
      }
    },
    {
      "cell_type": "code",
      "source": [
        "import scipy.stats as stats\n",
        "import numpy as np\n",
        "\n",
        "# 주어진 값들\n",
        "sigma = 8  # 모집단의 표준편차\n",
        "n = 25  # 표본 크기\n",
        "x_bar = 42.7  # 표본 평균\n",
        "confidence_level = 0.95  # 신뢰 수준\n",
        "\n",
        "# 신뢰구간 구하기\n",
        "# 표본 표준오차(scale) = 표본표준편차/sqrt(표본크기)\n",
        "CI = stats.t.interval(0.95, df=n-1, loc=x_bar, scale=sigma/np.sqrt(n))\n",
        "lower_bound = CI[0]\n",
        "upper_bound = CI[1]\n",
        "\n",
        "# 결과 출력\n",
        "print(f\"95% 신뢰 구간: ({lower_bound:.2f}, {upper_bound:.2f})\")"
      ],
      "metadata": {
        "colab": {
          "base_uri": "https://localhost:8080/"
        },
        "id": "ypkJx1OGBRMc",
        "outputId": "bba1c1f0-4869-4d0c-a296-256d1b4358b4"
      },
      "execution_count": null,
      "outputs": [
        {
          "output_type": "stream",
          "name": "stdout",
          "text": [
            "95% 신뢰 구간: (39.40, 46.00)\n"
          ]
        }
      ]
    },
    {
      "cell_type": "code",
      "source": [
        "# 모범 답안\n",
        "# Z 분포를 이용한 모평균을 95% 신뢰 구간으로 구하는 공식\n",
        "# sigma/(n**0.5) = 표준오차\n",
        "# 모표준편차가 주어질 경우, z 검정 진행할 것!\n",
        "\n",
        "import scipy.stats as stats\n",
        "import numpy as np\n",
        "\n",
        "# 주어진 값들\n",
        "sigma = 8  # 모집단의 표준편차\n",
        "n = 25  # 표본 크기\n",
        "x_bar = 42.7  # 표본 평균\n",
        "confidence_level = 0.95  # 신뢰 수준\n",
        "\n",
        "# 표준오차 구하기\n",
        "se = sigma/np.sqrt(n)\n",
        "lower_bound = x_bar - 1.96 * se\n",
        "upper_bound = x_bar + 1.96 * se\n",
        "print(f'95% 신뢰구간 : ({lower_bound:.3f}, {upper_bound: .3f})')"
      ],
      "metadata": {
        "colab": {
          "base_uri": "https://localhost:8080/"
        },
        "id": "MpjdWllyGo0l",
        "outputId": "257c609e-aa71-4ab7-a421-c197e8aacd79"
      },
      "execution_count": null,
      "outputs": [
        {
          "output_type": "stream",
          "name": "stdout",
          "text": [
            "95% 신뢰구간 : (39.564,  45.836)\n"
          ]
        }
      ]
    },
    {
      "cell_type": "markdown",
      "source": [
        "### 문제 3번"
      ],
      "metadata": {
        "id": "ykbnx1c1GlOV"
      }
    },
    {
      "cell_type": "code",
      "source": [
        "import numpy as np\n",
        "from scipy import stats\n",
        "\n",
        "nature = [44, 44, 56, 46, 47, 38, 58, 53, 49, 35, 46, 30, 31]  # 자연적으로 말린 목초\n",
        "artificial = [35, 47, 55, 29, 40, 39, 32, 41, 42, 57, 51, 39]  # 인공적으로 말린 목초\n",
        "\n",
        "# 귀무가설: nature < artificial\n",
        "# 대립가설: nature > artificial\n",
        "print(\"H0: 귀무가설은 젖소의 우유생산량이 nature < artificial 이다.\")\n",
        "print(\"H1: 대립가설은 젖소의 우유생산량이 nature > artificial 이다.\")\n",
        "\n",
        "# 배열 생성\n",
        "group_a = np.array(nature)\n",
        "group_b = np.array(artificial)\n",
        "\n",
        "# 독립 이표본 t-테스트 수행\n",
        "t_stat, p_value = stats.ttest_ind(group_a, group_b, alternative='greater')\n",
        "print(f\"t-통계량: {t_stat:.4f}\")\n",
        "print(f\"p-값: {p_value:.4f}\")\n",
        "\n",
        "# 결과 출력\n",
        "alpha = 0.05\n",
        "if p_value < alpha:\n",
        "    print(\"귀무가설을 기각합니다.\")\n",
        "else:\n",
        "    print(\"귀무가설을 기각하지 않습니다.\")"
      ],
      "metadata": {
        "colab": {
          "base_uri": "https://localhost:8080/"
        },
        "id": "NMbJQ2NzF9wJ",
        "outputId": "e9fc3fd0-1217-4c2f-84d2-0c9feaa34063"
      },
      "execution_count": null,
      "outputs": [
        {
          "output_type": "stream",
          "name": "stdout",
          "text": [
            "H0: 귀무가설은 젖소의 우유생산량이 nature < artificial 이다.\n",
            "H1: 대립가설은 젖소의 우유생산량이 nature > artificial 이다.\n",
            "t-통계량: 0.6056\n",
            "p-값: 0.2754\n",
            "귀무가설을 기각하지 않습니다.\n"
          ]
        }
      ]
    },
    {
      "cell_type": "code",
      "source": [
        "# 모범 답안\n",
        "import numpy as np\n",
        "from scipy import stats\n",
        "\n",
        "nature = [44, 44, 56, 46, 47, 38, 58, 53, 49, 35, 46, 30, 31]  # 자연적으로 말린 목초\n",
        "artificial = [35, 47, 55, 29, 40, 39, 32, 41, 42, 57, 51, 39]  # 인공적으로 말린 목초\n",
        "\n",
        "# 귀무가설: 두 젖소의 우유 생산량은 똑같다.\n",
        "# 대립가설: 자연적으로 말린 목초를 먹은 젖소의 우유생산량이 더 많다.\n",
        "\n",
        "stats.ttest_ind(nature, artificial, alternative='greater', equal_var=True)"
      ],
      "metadata": {
        "colab": {
          "base_uri": "https://localhost:8080/"
        },
        "id": "YOIgDHLHJUtQ",
        "outputId": "50ffe308-837b-42e0-a93a-e66fd49ed071"
      },
      "execution_count": null,
      "outputs": [
        {
          "output_type": "execute_result",
          "data": {
            "text/plain": [
              "TtestResult(statistic=0.605564440457578, pvalue=0.2753667443616386, df=23.0)"
            ]
          },
          "metadata": {},
          "execution_count": 8
        }
      ]
    },
    {
      "cell_type": "code",
      "source": [
        "# 정규성 검정\n",
        "for data in [nature, artificial]:\n",
        "    stat, pvalue = stats.shapiro(data)\n",
        "    print(stat, pvalue)"
      ],
      "metadata": {
        "colab": {
          "base_uri": "https://localhost:8080/"
        },
        "id": "WwYQvXjwJbXj",
        "outputId": "d995857d-dd71-43e3-f4bc-130a8ec1f960"
      },
      "execution_count": null,
      "outputs": [
        {
          "output_type": "stream",
          "name": "stdout",
          "text": [
            "0.9525647224349689 0.6376096941881872\n",
            "0.9537352910187997 0.6920588812255069\n"
          ]
        }
      ]
    },
    {
      "cell_type": "code",
      "source": [
        "# 등분산성 검정\n",
        "stats.levene(nature, artificial)"
      ],
      "metadata": {
        "colab": {
          "base_uri": "https://localhost:8080/"
        },
        "id": "ST_LK9psJq0N",
        "outputId": "79e1a3cd-1127-4e99-bc3b-447650b38a28"
      },
      "execution_count": null,
      "outputs": [
        {
          "output_type": "execute_result",
          "data": {
            "text/plain": [
              "LeveneResult(statistic=0.0022673818681084607, pvalue=0.9624325198350847)"
            ]
          },
          "metadata": {},
          "execution_count": 6
        }
      ]
    },
    {
      "cell_type": "markdown",
      "source": [
        "### 문제 4번"
      ],
      "metadata": {
        "id": "rFMGQ4ZbMcy5"
      }
    },
    {
      "cell_type": "code",
      "source": [
        "import pandas as pd\n",
        "from scipy import stats\n",
        "# URL 로 데이터 가져오기\n",
        "url = \"https://raw.githubusercontent.com/gedeck/practical-statistics-for-data-scientists/master/data/click_rates.csv\"\n",
        "click_rate  = pd.read_csv(url)\n",
        "clicks = click_rate.pivot(index='Click', columns='Headline', values='Rate')\n",
        "display(clicks)\n",
        "\n",
        "# 카이제곱 독립성 검정 통계량 p-value, 자유도, 기댓값을 계산\n",
        "chi2_stat, p_val, dof, expected = stats.chi2_contingency(clicks, correction=True) # correction=True -> 자유도가 1일 때 수치를 보정해주는 옵션/ 일반적으로 2x2일 때 적용 (Yates' correction을 적용)\n",
        "\n",
        "# 결과 출력\n",
        "print(\"H0: 귀무가설은 헤드라인과 페이지 클릭률은 독립적이다는 것이다.\")\n",
        "print(\"H1: 대립가설은 헤드라인과 페이지 클릭률은 독립적이지 않다는 것이다.\")\n",
        "print(f\"chisq: {chi2_stat:.3f}\") #1.666\n",
        "print(f\"pvalue: {p_val:.3f}\") #0.435\n",
        "\n",
        "# 결론\n",
        "alpha = 0.05  # 유의수준\n",
        "if p_val < alpha: # 오타 나있었다ㅜㅜ\n",
        "    print(\"귀무가설 기각: 헤드라인과 페이지 클릭율에는 관련이 있다.\")\n",
        "else:\n",
        "    print(\"귀무가설 채택: 헤드라인과 페이지 클릭율에는 관련이 없다.\")"
      ],
      "metadata": {
        "colab": {
          "base_uri": "https://localhost:8080/",
          "height": 230
        },
        "id": "yk7BrSHemYvG",
        "outputId": "7b761bcb-95e7-46ff-e443-ad2f61c302e1"
      },
      "execution_count": null,
      "outputs": [
        {
          "output_type": "display_data",
          "data": {
            "text/plain": [
              "Headline  Headline A  Headline B  Headline C\n",
              "Click                                       \n",
              "Click             14           8          12\n",
              "No-click         986         992         988"
            ],
            "text/html": [
              "\n",
              "  <div id=\"df-800cd378-aa45-4153-9dd4-f780b4c244c0\" class=\"colab-df-container\">\n",
              "    <div>\n",
              "<style scoped>\n",
              "    .dataframe tbody tr th:only-of-type {\n",
              "        vertical-align: middle;\n",
              "    }\n",
              "\n",
              "    .dataframe tbody tr th {\n",
              "        vertical-align: top;\n",
              "    }\n",
              "\n",
              "    .dataframe thead th {\n",
              "        text-align: right;\n",
              "    }\n",
              "</style>\n",
              "<table border=\"1\" class=\"dataframe\">\n",
              "  <thead>\n",
              "    <tr style=\"text-align: right;\">\n",
              "      <th>Headline</th>\n",
              "      <th>Headline A</th>\n",
              "      <th>Headline B</th>\n",
              "      <th>Headline C</th>\n",
              "    </tr>\n",
              "    <tr>\n",
              "      <th>Click</th>\n",
              "      <th></th>\n",
              "      <th></th>\n",
              "      <th></th>\n",
              "    </tr>\n",
              "  </thead>\n",
              "  <tbody>\n",
              "    <tr>\n",
              "      <th>Click</th>\n",
              "      <td>14</td>\n",
              "      <td>8</td>\n",
              "      <td>12</td>\n",
              "    </tr>\n",
              "    <tr>\n",
              "      <th>No-click</th>\n",
              "      <td>986</td>\n",
              "      <td>992</td>\n",
              "      <td>988</td>\n",
              "    </tr>\n",
              "  </tbody>\n",
              "</table>\n",
              "</div>\n",
              "    <div class=\"colab-df-buttons\">\n",
              "\n",
              "  <div class=\"colab-df-container\">\n",
              "    <button class=\"colab-df-convert\" onclick=\"convertToInteractive('df-800cd378-aa45-4153-9dd4-f780b4c244c0')\"\n",
              "            title=\"Convert this dataframe to an interactive table.\"\n",
              "            style=\"display:none;\">\n",
              "\n",
              "  <svg xmlns=\"http://www.w3.org/2000/svg\" height=\"24px\" viewBox=\"0 -960 960 960\">\n",
              "    <path d=\"M120-120v-720h720v720H120Zm60-500h600v-160H180v160Zm220 220h160v-160H400v160Zm0 220h160v-160H400v160ZM180-400h160v-160H180v160Zm440 0h160v-160H620v160ZM180-180h160v-160H180v160Zm440 0h160v-160H620v160Z\"/>\n",
              "  </svg>\n",
              "    </button>\n",
              "\n",
              "  <style>\n",
              "    .colab-df-container {\n",
              "      display:flex;\n",
              "      gap: 12px;\n",
              "    }\n",
              "\n",
              "    .colab-df-convert {\n",
              "      background-color: #E8F0FE;\n",
              "      border: none;\n",
              "      border-radius: 50%;\n",
              "      cursor: pointer;\n",
              "      display: none;\n",
              "      fill: #1967D2;\n",
              "      height: 32px;\n",
              "      padding: 0 0 0 0;\n",
              "      width: 32px;\n",
              "    }\n",
              "\n",
              "    .colab-df-convert:hover {\n",
              "      background-color: #E2EBFA;\n",
              "      box-shadow: 0px 1px 2px rgba(60, 64, 67, 0.3), 0px 1px 3px 1px rgba(60, 64, 67, 0.15);\n",
              "      fill: #174EA6;\n",
              "    }\n",
              "\n",
              "    .colab-df-buttons div {\n",
              "      margin-bottom: 4px;\n",
              "    }\n",
              "\n",
              "    [theme=dark] .colab-df-convert {\n",
              "      background-color: #3B4455;\n",
              "      fill: #D2E3FC;\n",
              "    }\n",
              "\n",
              "    [theme=dark] .colab-df-convert:hover {\n",
              "      background-color: #434B5C;\n",
              "      box-shadow: 0px 1px 3px 1px rgba(0, 0, 0, 0.15);\n",
              "      filter: drop-shadow(0px 1px 2px rgba(0, 0, 0, 0.3));\n",
              "      fill: #FFFFFF;\n",
              "    }\n",
              "  </style>\n",
              "\n",
              "    <script>\n",
              "      const buttonEl =\n",
              "        document.querySelector('#df-800cd378-aa45-4153-9dd4-f780b4c244c0 button.colab-df-convert');\n",
              "      buttonEl.style.display =\n",
              "        google.colab.kernel.accessAllowed ? 'block' : 'none';\n",
              "\n",
              "      async function convertToInteractive(key) {\n",
              "        const element = document.querySelector('#df-800cd378-aa45-4153-9dd4-f780b4c244c0');\n",
              "        const dataTable =\n",
              "          await google.colab.kernel.invokeFunction('convertToInteractive',\n",
              "                                                    [key], {});\n",
              "        if (!dataTable) return;\n",
              "\n",
              "        const docLinkHtml = 'Like what you see? Visit the ' +\n",
              "          '<a target=\"_blank\" href=https://colab.research.google.com/notebooks/data_table.ipynb>data table notebook</a>'\n",
              "          + ' to learn more about interactive tables.';\n",
              "        element.innerHTML = '';\n",
              "        dataTable['output_type'] = 'display_data';\n",
              "        await google.colab.output.renderOutput(dataTable, element);\n",
              "        const docLink = document.createElement('div');\n",
              "        docLink.innerHTML = docLinkHtml;\n",
              "        element.appendChild(docLink);\n",
              "      }\n",
              "    </script>\n",
              "  </div>\n",
              "\n",
              "\n",
              "<div id=\"df-0973f882-3275-4757-85a9-0df0a3ecc265\">\n",
              "  <button class=\"colab-df-quickchart\" onclick=\"quickchart('df-0973f882-3275-4757-85a9-0df0a3ecc265')\"\n",
              "            title=\"Suggest charts\"\n",
              "            style=\"display:none;\">\n",
              "\n",
              "<svg xmlns=\"http://www.w3.org/2000/svg\" height=\"24px\"viewBox=\"0 0 24 24\"\n",
              "     width=\"24px\">\n",
              "    <g>\n",
              "        <path d=\"M19 3H5c-1.1 0-2 .9-2 2v14c0 1.1.9 2 2 2h14c1.1 0 2-.9 2-2V5c0-1.1-.9-2-2-2zM9 17H7v-7h2v7zm4 0h-2V7h2v10zm4 0h-2v-4h2v4z\"/>\n",
              "    </g>\n",
              "</svg>\n",
              "  </button>\n",
              "\n",
              "<style>\n",
              "  .colab-df-quickchart {\n",
              "      --bg-color: #E8F0FE;\n",
              "      --fill-color: #1967D2;\n",
              "      --hover-bg-color: #E2EBFA;\n",
              "      --hover-fill-color: #174EA6;\n",
              "      --disabled-fill-color: #AAA;\n",
              "      --disabled-bg-color: #DDD;\n",
              "  }\n",
              "\n",
              "  [theme=dark] .colab-df-quickchart {\n",
              "      --bg-color: #3B4455;\n",
              "      --fill-color: #D2E3FC;\n",
              "      --hover-bg-color: #434B5C;\n",
              "      --hover-fill-color: #FFFFFF;\n",
              "      --disabled-bg-color: #3B4455;\n",
              "      --disabled-fill-color: #666;\n",
              "  }\n",
              "\n",
              "  .colab-df-quickchart {\n",
              "    background-color: var(--bg-color);\n",
              "    border: none;\n",
              "    border-radius: 50%;\n",
              "    cursor: pointer;\n",
              "    display: none;\n",
              "    fill: var(--fill-color);\n",
              "    height: 32px;\n",
              "    padding: 0;\n",
              "    width: 32px;\n",
              "  }\n",
              "\n",
              "  .colab-df-quickchart:hover {\n",
              "    background-color: var(--hover-bg-color);\n",
              "    box-shadow: 0 1px 2px rgba(60, 64, 67, 0.3), 0 1px 3px 1px rgba(60, 64, 67, 0.15);\n",
              "    fill: var(--button-hover-fill-color);\n",
              "  }\n",
              "\n",
              "  .colab-df-quickchart-complete:disabled,\n",
              "  .colab-df-quickchart-complete:disabled:hover {\n",
              "    background-color: var(--disabled-bg-color);\n",
              "    fill: var(--disabled-fill-color);\n",
              "    box-shadow: none;\n",
              "  }\n",
              "\n",
              "  .colab-df-spinner {\n",
              "    border: 2px solid var(--fill-color);\n",
              "    border-color: transparent;\n",
              "    border-bottom-color: var(--fill-color);\n",
              "    animation:\n",
              "      spin 1s steps(1) infinite;\n",
              "  }\n",
              "\n",
              "  @keyframes spin {\n",
              "    0% {\n",
              "      border-color: transparent;\n",
              "      border-bottom-color: var(--fill-color);\n",
              "      border-left-color: var(--fill-color);\n",
              "    }\n",
              "    20% {\n",
              "      border-color: transparent;\n",
              "      border-left-color: var(--fill-color);\n",
              "      border-top-color: var(--fill-color);\n",
              "    }\n",
              "    30% {\n",
              "      border-color: transparent;\n",
              "      border-left-color: var(--fill-color);\n",
              "      border-top-color: var(--fill-color);\n",
              "      border-right-color: var(--fill-color);\n",
              "    }\n",
              "    40% {\n",
              "      border-color: transparent;\n",
              "      border-right-color: var(--fill-color);\n",
              "      border-top-color: var(--fill-color);\n",
              "    }\n",
              "    60% {\n",
              "      border-color: transparent;\n",
              "      border-right-color: var(--fill-color);\n",
              "    }\n",
              "    80% {\n",
              "      border-color: transparent;\n",
              "      border-right-color: var(--fill-color);\n",
              "      border-bottom-color: var(--fill-color);\n",
              "    }\n",
              "    90% {\n",
              "      border-color: transparent;\n",
              "      border-bottom-color: var(--fill-color);\n",
              "    }\n",
              "  }\n",
              "</style>\n",
              "\n",
              "  <script>\n",
              "    async function quickchart(key) {\n",
              "      const quickchartButtonEl =\n",
              "        document.querySelector('#' + key + ' button');\n",
              "      quickchartButtonEl.disabled = true;  // To prevent multiple clicks.\n",
              "      quickchartButtonEl.classList.add('colab-df-spinner');\n",
              "      try {\n",
              "        const charts = await google.colab.kernel.invokeFunction(\n",
              "            'suggestCharts', [key], {});\n",
              "      } catch (error) {\n",
              "        console.error('Error during call to suggestCharts:', error);\n",
              "      }\n",
              "      quickchartButtonEl.classList.remove('colab-df-spinner');\n",
              "      quickchartButtonEl.classList.add('colab-df-quickchart-complete');\n",
              "    }\n",
              "    (() => {\n",
              "      let quickchartButtonEl =\n",
              "        document.querySelector('#df-0973f882-3275-4757-85a9-0df0a3ecc265 button');\n",
              "      quickchartButtonEl.style.display =\n",
              "        google.colab.kernel.accessAllowed ? 'block' : 'none';\n",
              "    })();\n",
              "  </script>\n",
              "</div>\n",
              "\n",
              "  <div id=\"id_5cb73cb8-94e5-422b-b427-2eea44c0f6f8\">\n",
              "    <style>\n",
              "      .colab-df-generate {\n",
              "        background-color: #E8F0FE;\n",
              "        border: none;\n",
              "        border-radius: 50%;\n",
              "        cursor: pointer;\n",
              "        display: none;\n",
              "        fill: #1967D2;\n",
              "        height: 32px;\n",
              "        padding: 0 0 0 0;\n",
              "        width: 32px;\n",
              "      }\n",
              "\n",
              "      .colab-df-generate:hover {\n",
              "        background-color: #E2EBFA;\n",
              "        box-shadow: 0px 1px 2px rgba(60, 64, 67, 0.3), 0px 1px 3px 1px rgba(60, 64, 67, 0.15);\n",
              "        fill: #174EA6;\n",
              "      }\n",
              "\n",
              "      [theme=dark] .colab-df-generate {\n",
              "        background-color: #3B4455;\n",
              "        fill: #D2E3FC;\n",
              "      }\n",
              "\n",
              "      [theme=dark] .colab-df-generate:hover {\n",
              "        background-color: #434B5C;\n",
              "        box-shadow: 0px 1px 3px 1px rgba(0, 0, 0, 0.15);\n",
              "        filter: drop-shadow(0px 1px 2px rgba(0, 0, 0, 0.3));\n",
              "        fill: #FFFFFF;\n",
              "      }\n",
              "    </style>\n",
              "    <button class=\"colab-df-generate\" onclick=\"generateWithVariable('clicks')\"\n",
              "            title=\"Generate code using this dataframe.\"\n",
              "            style=\"display:none;\">\n",
              "\n",
              "  <svg xmlns=\"http://www.w3.org/2000/svg\" height=\"24px\"viewBox=\"0 0 24 24\"\n",
              "       width=\"24px\">\n",
              "    <path d=\"M7,19H8.4L18.45,9,17,7.55,7,17.6ZM5,21V16.75L18.45,3.32a2,2,0,0,1,2.83,0l1.4,1.43a1.91,1.91,0,0,1,.58,1.4,1.91,1.91,0,0,1-.58,1.4L9.25,21ZM18.45,9,17,7.55Zm-12,3A5.31,5.31,0,0,0,4.9,8.1,5.31,5.31,0,0,0,1,6.5,5.31,5.31,0,0,0,4.9,4.9,5.31,5.31,0,0,0,6.5,1,5.31,5.31,0,0,0,8.1,4.9,5.31,5.31,0,0,0,12,6.5,5.46,5.46,0,0,0,6.5,12Z\"/>\n",
              "  </svg>\n",
              "    </button>\n",
              "    <script>\n",
              "      (() => {\n",
              "      const buttonEl =\n",
              "        document.querySelector('#id_5cb73cb8-94e5-422b-b427-2eea44c0f6f8 button.colab-df-generate');\n",
              "      buttonEl.style.display =\n",
              "        google.colab.kernel.accessAllowed ? 'block' : 'none';\n",
              "\n",
              "      buttonEl.onclick = () => {\n",
              "        google.colab.notebook.generateWithVariable('clicks');\n",
              "      }\n",
              "      })();\n",
              "    </script>\n",
              "  </div>\n",
              "\n",
              "    </div>\n",
              "  </div>\n"
            ],
            "application/vnd.google.colaboratory.intrinsic+json": {
              "type": "dataframe",
              "variable_name": "clicks",
              "summary": "{\n  \"name\": \"clicks\",\n  \"rows\": 2,\n  \"fields\": [\n    {\n      \"column\": \"Click\",\n      \"properties\": {\n        \"dtype\": \"string\",\n        \"num_unique_values\": 2,\n        \"samples\": [\n          \"No-click\",\n          \"Click\"\n        ],\n        \"semantic_type\": \"\",\n        \"description\": \"\"\n      }\n    },\n    {\n      \"column\": \"Headline A\",\n      \"properties\": {\n        \"dtype\": \"number\",\n        \"std\": 687,\n        \"min\": 14,\n        \"max\": 986,\n        \"num_unique_values\": 2,\n        \"samples\": [\n          986,\n          14\n        ],\n        \"semantic_type\": \"\",\n        \"description\": \"\"\n      }\n    },\n    {\n      \"column\": \"Headline B\",\n      \"properties\": {\n        \"dtype\": \"number\",\n        \"std\": 695,\n        \"min\": 8,\n        \"max\": 992,\n        \"num_unique_values\": 2,\n        \"samples\": [\n          992,\n          8\n        ],\n        \"semantic_type\": \"\",\n        \"description\": \"\"\n      }\n    },\n    {\n      \"column\": \"Headline C\",\n      \"properties\": {\n        \"dtype\": \"number\",\n        \"std\": 690,\n        \"min\": 12,\n        \"max\": 988,\n        \"num_unique_values\": 2,\n        \"samples\": [\n          988,\n          12\n        ],\n        \"semantic_type\": \"\",\n        \"description\": \"\"\n      }\n    }\n  ]\n}"
            }
          },
          "metadata": {}
        },
        {
          "output_type": "stream",
          "name": "stdout",
          "text": [
            "H0: 귀무가설은 헤드라인과 페이지 클릭률은 독립적이다는 것이다.\n",
            "H1: 대립가설은 헤드라인과 페이지 클릭률은 독립적이지 않다는 것이다.\n",
            "chisq: 1.666\n",
            "pvalue: 0.435\n",
            "귀무가설 채택: 헤드라인과 페이지 클릭율에는 관련이 없다.\n"
          ]
        }
      ]
    },
    {
      "cell_type": "code",
      "source": [
        "# 모범 답안\n",
        "import pandas as pd\n",
        "from scipy import stats\n",
        "# URL 로 데이터 가져오기\n",
        "url = \"https://raw.githubusercontent.com/gedeck/practical-statistics-for-data-scientists/master/data/click_rates.csv\"\n",
        "click_rate  = pd.read_csv(url)\n",
        "clicks = click_rate.pivot(index='Click', columns='Headline', values='Rate')\n",
        "\n",
        "chi2_stat, p_val, dof, expected = stats.chi2_contingency(clicks)\n",
        "\n",
        "print(f\"chisq: {chi2_stat:.3f}\") #1.666\n",
        "print(f\"pvalue: {p_val:.3f}\") #0.435\n",
        "\n",
        "# 결론\n",
        "alpha = 0.05  # 유의수준\n",
        "if p_val < alpha:\n",
        "    print(\"귀무가설 기각: 헤드라인과 페이지 클릭율에는 관련이 있다.\")\n",
        "else:\n",
        "    print(\"귀무가설 채택: 헤드라인과 페이지 클릭율에는 관련이 없다.\")"
      ],
      "metadata": {
        "colab": {
          "base_uri": "https://localhost:8080/"
        },
        "id": "rRBnLclwLbd1",
        "outputId": "16029ae2-b5d1-40d7-ee31-b13c921fc0dd"
      },
      "execution_count": null,
      "outputs": [
        {
          "output_type": "stream",
          "name": "stdout",
          "text": [
            "chisq: 1.666\n",
            "pvalue: 0.435\n",
            "귀무가설 채택: 헤드라인과 페이지 클릭율에는 관련이 없다.\n"
          ]
        }
      ]
    },
    {
      "cell_type": "markdown",
      "source": [
        "### 문제 5번"
      ],
      "metadata": {
        "id": "KIY9SPkzmbc0"
      }
    },
    {
      "cell_type": "code",
      "source": [
        "import pandas as pd\n",
        "import numpy as np\n",
        "\n",
        "np.random.seed(42)\n",
        "\n",
        "# scipy를 통한 샘플 생성\n",
        "# 01. 이항 분포 샘플 생성: 확률(p) 0.5 / 시행(n) 10번 / 개수(k) 1000개\n",
        "from scipy.stats import binom\n",
        "n = 10\n",
        "p = 0.5\n",
        "\n",
        "binomial_size = 1000\n",
        "\n",
        "binomial_data = binom.rvs(n, p, size=binomial_size)\n",
        "\n",
        "#시각화: 히스토그램 동시에 표현 / bins = 20\n",
        "import matplotlib.pyplot as plt\n",
        "\n",
        "plt.figure(figsize=(15, 5))\n",
        "\n",
        "plt.hist(binomial_data, color = 'blue', bins=20, label='binomial')\n",
        "plt.legend()\n",
        "plt.show()\n"
      ],
      "metadata": {
        "id": "PrFcNzLGmek0",
        "colab": {
          "base_uri": "https://localhost:8080/",
          "height": 350
        },
        "outputId": "d5ce7b19-b69f-4173-fc99-6aaeaad1bf3f"
      },
      "execution_count": null,
      "outputs": [
        {
          "output_type": "display_data",
          "data": {
            "text/plain": [
              "<Figure size 1500x500 with 1 Axes>"
            ],
            "image/png": "[encoded data removed]"
          },
          "metadata": {}
        }
      ]
    },
    {
      "cell_type": "code",
      "source": [
        "# 02. 균등 분포 샘플 생성: 시작 0 / 끝 10 / 표본 1000\n",
        "from scipy.stats import uniform\n",
        "\n",
        "uniform_data = uniform.rvs(size=1000, loc=0, scale=10)\n",
        "\n",
        "#시각화: 히스토그램 동시에 표현 / bins = 20\n",
        "import matplotlib.pyplot as plt\n",
        "\n",
        "plt.figure(figsize=(15, 5))\n",
        "plt.hist(uniform_data, color='red', bins=20, label='uniform')\n",
        "plt.legend()\n",
        "plt.show()"
      ],
      "metadata": {
        "colab": {
          "base_uri": "https://localhost:8080/",
          "height": 353
        },
        "id": "KcoTcQGCw-8E",
        "outputId": "7173d5c2-936d-4b7e-88df-73805a2069e5"
      },
      "execution_count": null,
      "outputs": [
        {
          "output_type": "display_data",
          "data": {
            "text/plain": [
              "<Figure size 1500x500 with 1 Axes>"
            ],
            "image/png": "[encoded data removed]"
          },
          "metadata": {}
        }
      ]
    },
    {
      "cell_type": "code",
      "source": [
        "# 03. 표준 정규 분포 샘플 생성: 표본 1000\n",
        "from scipy.stats import norm\n",
        "\n",
        "normal_data = stats.norm.rvs(size=1000)\n",
        "\n",
        "#시각화: 히스토그램 동시에 표현 / bins = 20\n",
        "import matplotlib.pyplot as plt\n",
        "\n",
        "plt.figure(figsize=(15, 5))\n",
        "plt.hist(normal_data, color='green', bins=20, label='norm')\n",
        "plt.legend()\n",
        "plt.show()"
      ],
      "metadata": {
        "colab": {
          "base_uri": "https://localhost:8080/",
          "height": 353
        },
        "id": "nfEZPkUaw_hG",
        "outputId": "44f4eff1-b856-4303-e8be-802c8018e1fe"
      },
      "execution_count": null,
      "outputs": [
        {
          "output_type": "display_data",
          "data": {
            "text/plain": [
              "<Figure size 1500x500 with 1 Axes>"
            ],
            "image/png": "[encoded data removed]"
          },
          "metadata": {}
        }
      ]
    },
    {
      "cell_type": "code",
      "source": [
        "# 결합 코드\n",
        "import pandas as pd\n",
        "import numpy as np\n",
        "\n",
        "np.random.seed(42)\n",
        "\n",
        "# scipy를 통한 샘플 생성\n",
        "# 01. 이항 분포 샘플 생성: 확률(p) 0.5 / 시행(n) 10번 / 개수(k) 1000개\n",
        "from scipy.stats import binom\n",
        "n = 10\n",
        "p = 0.5\n",
        "binomial_size = 1000\n",
        "binomial_data = binom.rvs(n, p, size=binomial_size)\n",
        "\n",
        "# 02. 균등 분포 샘플 생성: 시작 0 / 끝 10 / 표본 1000\n",
        "from scipy.stats import uniform\n",
        "uniform_data = uniform.rvs(size=1000, loc=0, scale=10)\n",
        "\n",
        "# 03. 표준 정규 분포 샘플 생성: 표본 1000\n",
        "from scipy.stats import norm\n",
        "normal_data = norm.rvs(size=1000)\n",
        "\n",
        "#시각화: 히스토그램 동시에 표현 / bins = 20\n",
        "import matplotlib.pyplot as plt\n",
        "\n",
        "fig, (ax1, ax2, ax3) = plt.subplots(1, 3, figsize=(15,5))\n",
        "plt.tight_layout()\n",
        "\n",
        "ax1.hist(binomial_data, color = 'blue', bins=20, label='binomial')\n",
        "ax1.set_title('Binomial Distribution')\n",
        "ax1.set_xlabel(\"Value\")\n",
        "ax1.set_ylabel(\"Frequency\")\n",
        "\n",
        "ax2.hist(uniform_data, color='green', bins=20, label='uniform')\n",
        "ax2.set_title('Uniform Distribution')\n",
        "ax2.set_xlabel(\"Value\")\n",
        "ax2.set_ylabel(\"Frequency\")\n",
        "\n",
        "ax3.hist(normal_data, color='red', bins=20, label='norm')\n",
        "ax3.set_title('Normal Distribution')\n",
        "ax3.set_xlabel(\"Value\")\n",
        "ax3.set_ylabel(\"Frequency\")\n",
        "\n",
        "plt.show()"
      ],
      "metadata": {
        "colab": {
          "base_uri": "https://localhost:8080/",
          "height": 311
        },
        "id": "SgAwlgBU1Xnj",
        "outputId": "23bf5d3e-dd7e-4dfd-8581-7ef91bb758c6"
      },
      "execution_count": null,
      "outputs": [
        {
          "output_type": "display_data",
          "data": {
            "text/plain": [
              "<Figure size 1500x500 with 3 Axes>"
            ],
            "image/png": "[encoded data removed]"
          },
          "metadata": {}
        }
      ]
    },
    {
      "cell_type": "code",
      "source": [
        "# 모범 답안\n",
        "# 중심극한 정리를 이해하고 있는가 -> 시뮬레이션 기능을 할 수 있는가 -> 시각화 할 수 있는가\n",
        "import pandas as pd\n",
        "import numpy as np\n",
        "import matplotlib.pyplot as plt\n",
        "from scipy.stats import *       # * = stats에 있는 모든 라이브러리를 불러온다\n",
        "\n",
        "np.random.seed(42) # 랜덤한 값을 고정해주기\n",
        "sample_size = 1000\n",
        "\n",
        "# Uniform\n",
        "uniform_data = uniform.rvs(loc=0, scale=10, size=sample_size)\n",
        "\n",
        "# biomial\n",
        "binomial_data = binom.rvs(n=10, p=0.5, size=sample_size)\n",
        "\n",
        "# normal\n",
        "normal_data = norm.rvs(size=sample_size) # 기본값 loc=0, scale=1 생략\n",
        "\n",
        "# subplots 시각화\n",
        "plt.figure(figsize=(15,5))\n",
        "\n",
        "plt.subplot(1, 3, 1) #1행, 3열의 표를 만들고 그 중 1번에 그리겠다는 의미\n",
        "plt.hist(binomial_data, bins=20, color='blue', alpha=0.7)\n",
        "\n",
        "plt.subplot(1, 3, 2) #1행, 3열의 표를 만들고 그 중 1번에 그리겠다는 의미\n",
        "plt.hist(uniform_data, bins=20, color='green', alpha=0.7)\n",
        "\n",
        "plt.subplot(1, 3, 3) #1행, 3열의 표를 만들고 그 중 1번에 그리겠다는 의미\n",
        "plt.hist(normal_data, bins=20, color='red', alpha=0.7)"
      ],
      "metadata": {
        "colab": {
          "base_uri": "https://localhost:8080/",
          "height": 451
        },
        "id": "H8PrU0QENotM",
        "outputId": "277e5dce-c9ec-4ddb-ea62-e778503b9a43"
      },
      "execution_count": null,
      "outputs": [
        {
          "output_type": "execute_result",
          "data": {
            "text/plain": [
              "(array([  3.,   6.,   9.,  14.,  34.,  47.,  75.,  99., 119., 129., 107.,\n",
              "        123.,  89.,  62.,  38.,  20.,  15.,   3.,   3.,   5.]),\n",
              " array([-3.01951216, -2.70888117, -2.39825018, -2.0876192 , -1.77698821,\n",
              "        -1.46635722, -1.15572624, -0.84509525, -0.53446427, -0.22383328,\n",
              "         0.08679771,  0.39742869,  0.70805968,  1.01869066,  1.32932165,\n",
              "         1.63995264,  1.95058362,  2.26121461,  2.5718456 ,  2.88247658,\n",
              "         3.19310757]),\n",
              " <BarContainer object of 20 artists>)"
            ]
          },
          "metadata": {},
          "execution_count": 22
        },
        {
          "output_type": "display_data",
          "data": {
            "text/plain": [
              "<Figure size 1500x500 with 3 Axes>"
            ],
            "image/png": "[encoded data removed]"
          },
          "metadata": {}
        }
      ]
    },
    {
      "cell_type": "markdown",
      "source": [
        "### 문제 6번"
      ],
      "metadata": {
        "id": "P_a1saIEmc6X"
      }
    },
    {
      "cell_type": "code",
      "source": [
        "num_samples = 500\n",
        "sample_means = {\n",
        "    \"Binomial\": [],\n",
        "    \"Uniform\": [],\n",
        "    \"Normal\": []\n",
        "}\n",
        "\n",
        "# Binomial 30개씩 500번 복원 추출 평균 내기\n",
        "for i in range(num_samples):\n",
        "    bin_sample = np.random.choice(binomial_data,size=30, replace=True)\n",
        "    bin_m = np.mean(bin_sample)\n",
        "    sample_means['Binomial'].append(bin_m)\n",
        "\n",
        "# Uniform 30개씩 500번 복원 추출 평균 내기\n",
        "for i in range(num_samples):\n",
        "    uni_sample = np.random.choice(uniform_data,size=30, replace=True)\n",
        "    uni_m = np.mean(uni_sample)\n",
        "    sample_means['Uniform'].append(uni_m)\n",
        "\n",
        "# Normal 30개씩 500번 복원 추출 평균 내기\n",
        "for i in range(num_samples):\n",
        "    nor_sample = np.random.choice(normal_data,size=30, replace=True)\n",
        "    nor_m = np.mean(nor_sample)\n",
        "    sample_means['Normal'].append(nor_m)\n",
        "\n",
        "#시각화\n",
        "import matplotlib.pyplot as plt\n",
        "\n",
        "fig, (ax1, ax2, ax3) = plt.subplots(1, 3, figsize=(15,5))\n",
        "plt.tight_layout()\n",
        "\n",
        "ax1.hist(sample_means['Binomial'], color = 'blue', bins=20)\n",
        "ax1.set_title('Sample Mean Distribution (Binomial)')\n",
        "ax1.set_xlabel(\"Mean Value\")\n",
        "ax1.set_ylabel(\"Frequency\")\n",
        "\n",
        "ax2.hist(sample_means['Uniform'], color='green', bins=20)\n",
        "ax2.set_title('Sample Mean Distribution (Uniform)')\n",
        "ax2.set_xlabel(\"Mean Value\")\n",
        "ax2.set_ylabel(\"Frequency\")\n",
        "\n",
        "ax3.hist(sample_means['Normal'], color='red', bins=20)\n",
        "ax3.set_title('Sample Mean Distribution (Normal)')\n",
        "ax3.set_xlabel(\"Mean Value\")\n",
        "ax3.set_ylabel(\"Frequency\")\n",
        "\n",
        "plt.show()"
      ],
      "metadata": {
        "id": "gFfexeFVmchS",
        "colab": {
          "base_uri": "https://localhost:8080/",
          "height": 351
        },
        "outputId": "721aa680-ce8b-47d5-abcb-cdd05d6a0b95"
      },
      "execution_count": null,
      "outputs": [
        {
          "output_type": "display_data",
          "data": {
            "text/plain": [
              "<Figure size 1500x500 with 3 Axes>"
            ],
            "image/png": "[encoded data removed]"
          },
          "metadata": {}
        }
      ]
    },
    {
      "cell_type": "code",
      "source": [
        "'''\n",
        "# 임의 표본 추출\n",
        "binomial_m = np.random.choice(binomial_data, size=30, replace=True).mean()\n",
        "binomial_sample = np.random()\n",
        "sample_means[\"Binomial\"].append(binomial_m)\n",
        "'''\n",
        "print(sample_means['Binomial'])\n",
        "print(sample_means['Uniform'])\n",
        "print(sample_means['Normal'])\n",
        "\n",
        "print(len(sample_means['Binomial']))\n",
        "print(len(sample_means['Uniform']))\n",
        "print(len(sample_means['Normal']))"
      ],
      "metadata": {
        "id": "dA3TRJmE_QMa"
      },
      "execution_count": null,
      "outputs": []
    },
    {
      "cell_type": "code",
      "source": [
        "# 모범 답안\n",
        "# boots\n",
        "\n",
        "num_sample = 500\n",
        "sample_means = {\n",
        "    'Binomial' : [],\n",
        "    'Uniform' : [],\n",
        "    'Normal' : []\n",
        "}\n",
        "\n",
        "# 복원추출 구현하기 + 500 번 반복\n",
        "# Binomial\n",
        "for _ in range(num_sample):\n",
        "    binomial_mean = np.random.choice(binomial_data, size = 30, replace=True).mean()\n",
        "    sample_means['Binomial'].append(binomial_mean)\n",
        "sample_means['Binomial'][:10]\n",
        "\n",
        "# Uniform\n",
        "for _ in range(num_sample):\n",
        "    uniform_mean = np.random.choice(uniform_data, size = 30, replace=True).mean()\n",
        "    sample_means['Uniform'].append(uniform_mean)\n",
        "sample_means['Uniform'][:10]\n",
        "\n",
        "# Uniform\n",
        "for _ in range(num_sample):\n",
        "    norm_mean = np.random.choice(normal_data, size = 30, replace=True).mean()\n",
        "    sample_means['Normal'].append(norm_mean)\n",
        "sample_means['Normal'][:10]\n",
        "\n",
        "# subplots 시각화\n",
        "plt.figure(figsize=(15,5))\n",
        "\n",
        "plt.subplot(1, 3, 1) #1행, 3열의 표를 만들고 그 중 1번에 그리겠다는 의미\n",
        "plt.hist(sample_means['Binomial'], bins=20, color='blue', alpha=0.7)\n",
        "\n",
        "plt.subplot(1, 3, 2) #1행, 3열의 표를 만들고 그 중 1번에 그리겠다는 의미\n",
        "plt.hist(sample_means['Uniform'], bins=20, color='green', alpha=0.7)\n",
        "\n",
        "plt.subplot(1, 3, 3) #1행, 3열의 표를 만들고 그 중 1번에 그리겠다는 의미\n",
        "plt.hist(sample_means['Normal'], bins=20, color='red', alpha=0.7)"
      ],
      "metadata": {
        "colab": {
          "base_uri": "https://localhost:8080/",
          "height": 453
        },
        "id": "uCwilh9cP-tK",
        "outputId": "5fa087b3-5e7f-45b2-cce4-7506b07905d1"
      },
      "execution_count": null,
      "outputs": [
        {
          "output_type": "execute_result",
          "data": {
            "text/plain": [
              "(array([ 2.,  5.,  1.,  5., 10., 19., 30., 43., 45., 48., 54., 50., 47.,\n",
              "        41., 35., 24., 19., 15.,  4.,  3.]),\n",
              " array([-0.53516857, -0.48512524, -0.43508191, -0.38503858, -0.33499524,\n",
              "        -0.28495191, -0.23490858, -0.18486525, -0.13482191, -0.08477858,\n",
              "        -0.03473525,  0.01530809,  0.06535142,  0.11539475,  0.16543808,\n",
              "         0.21548142,  0.26552475,  0.31556808,  0.36561141,  0.41565475,\n",
              "         0.46569808]),\n",
              " <BarContainer object of 20 artists>)"
            ]
          },
          "metadata": {},
          "execution_count": 31
        },
        {
          "output_type": "display_data",
          "data": {
            "text/plain": [
              "<Figure size 1500x500 with 3 Axes>"
            ],
            "image/png": "[encoded data removed]"
          },
          "metadata": {}
        }
      ]
    },
    {
      "cell_type": "code",
      "source": [],
      "metadata": {
        "id": "Ur3O6aX_QsL5"
      },
      "execution_count": null,
      "outputs": []
    }
  ]
}
