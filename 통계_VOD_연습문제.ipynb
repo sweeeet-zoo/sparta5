{
  "nbformat": 4,
  "nbformat_minor": 0,
  "metadata": {
    "colab": {
      "provenance": [],
      "authorship_tag": "ABX9TyPvJqFEA1rpiul+Z65JnJkw",
      "include_colab_link": true
    },
    "kernelspec": {
      "name": "python3",
      "display_name": "Python 3"
    },
    "language_info": {
      "name": "python"
    }
  },
  "cells": [
    {
      "cell_type": "markdown",
      "metadata": {
        "id": "view-in-github",
        "colab_type": "text"
      },
      "source": [
        "<a href=\"https://colab.research.google.com/github/sweeeet-zoo/sparta5/blob/main/%ED%86%B5%EA%B3%84_VOD_%EC%97%B0%EC%8A%B5%EB%AC%B8%EC%A0%9C.ipynb\" target=\"_parent\"><img src=\"https://colab.research.google.com/assets/colab-badge.svg\" alt=\"Open In Colab\"/></a>"
      ]
    },
    {
      "cell_type": "code",
      "execution_count": null,
      "metadata": {
        "id": "wjvquQzQp3yM"
      },
      "outputs": [],
      "source": [
        "import pandas as pd\n",
        "import numpy as np"
      ]
    },
    {
      "cell_type": "code",
      "source": [
        "a = [78, 82, 85, 88, 90, 92, 94, 96, 98, 100]\n",
        "\n",
        "print(np.mean(a))   # 평균\n",
        "print(np.median(a)) # 중앙값\n",
        "print(np.max(a)-np.min(a))  # 범위"
      ],
      "metadata": {
        "colab": {
          "base_uri": "https://localhost:8080/"
        },
        "id": "kxaKI56_p-O2",
        "outputId": "02023216-95d6-4291-9ec0-709d5345e446"
      },
      "execution_count": null,
      "outputs": [
        {
          "output_type": "stream",
          "name": "stdout",
          "text": [
            "90.3\n",
            "91.0\n",
            "22\n"
          ]
        }
      ]
    },
    {
      "cell_type": "code",
      "source": [
        "# 상관관계\n",
        "\n",
        "math =  [78, 82, 85, 88, 90, 92, 94, 96, 98, 100]\n",
        "english = [70, 75, 80, 85, 85, 90, 90, 95, 95, 100]\n",
        "\n",
        "np.corrcoef(math, english)"
      ],
      "metadata": {
        "colab": {
          "base_uri": "https://localhost:8080/"
        },
        "id": "85538xZfqDDq",
        "outputId": "91e3b672-5370-43b5-e670-57de39143a3c"
      },
      "execution_count": null,
      "outputs": [
        {
          "output_type": "execute_result",
          "data": {
            "text/plain": [
              "array([[1.        , 0.99256842],\n",
              "       [0.99256842, 1.        ]])"
            ]
          },
          "metadata": {},
          "execution_count": 12
        }
      ]
    },
    {
      "cell_type": "code",
      "source": [
        "import pandas as pd\n",
        "from scipy import stats\n",
        "import scipy.stats as stats\n",
        "\n",
        "# z 검정 방식\n",
        "sample_mean = 50\n",
        "sample_std = 10\n",
        "sample_n = 25\n",
        "confidence_level = 0.95  # 신뢰 수준\n",
        "\n",
        "se = sample_std/np.sqrt(sample_n)\n",
        "lower_bound = sample_mean - 1.96 * se\n",
        "upper_bound = sample_mean + 1.96 * se\n",
        "print(f'95% 신뢰구간 : ({lower_bound:.3f}, {upper_bound: .3f})')\n",
        "\n",
        "# stats 메소드 사용\n",
        "\n",
        "sample_mean = 50\n",
        "sample_std = 10\n",
        "sample_n = 25\n",
        "confidence_level = 0.95  # 신뢰 수준\n",
        "\n",
        "# 신뢰구간 구하기\n",
        "# 표본 표준오차(scale) = 표본표준편차/sqrt(표본크기)\n",
        "CI = stats.t.interval(0.95, df=sample_n-1, loc=sample_mean, scale=sample_std/np.sqrt(sample_n))\n",
        "lower_bound_2 = CI[0]\n",
        "upper_bound_2 = CI[1]\n",
        "\n",
        "print(f'95% 신뢰구간 : ({lower_bound_2:.3f}, {upper_bound_2: .3f})')"
      ],
      "metadata": {
        "colab": {
          "base_uri": "https://localhost:8080/"
        },
        "id": "F8UH2WMLsLda",
        "outputId": "a423a565-f21f-4ad7-ef43-152d91aeea32"
      },
      "execution_count": null,
      "outputs": [
        {
          "output_type": "stream",
          "name": "stdout",
          "text": [
            "95% 신뢰구간 : (46.080,  53.920)\n",
            "95% 신뢰구간 : (45.872,  54.128)\n"
          ]
        }
      ]
    },
    {
      "cell_type": "code",
      "source": [],
      "metadata": {
        "id": "Uokv3aH6uWgM"
      },
      "execution_count": null,
      "outputs": []
    }
  ]
}